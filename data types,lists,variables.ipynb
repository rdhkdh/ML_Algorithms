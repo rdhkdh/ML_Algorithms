{
 "cells": [
  {
   "cell_type": "code",
   "execution_count": 22,
   "id": "fe6fbd39",
   "metadata": {},
   "outputs": [
    {
     "name": "stdout",
     "output_type": "stream",
     "text": [
      "hello world\n"
     ]
    }
   ],
   "source": [
    "print(\"hello world\"); \n",
    "# single line comment"
   ]
  },
  {
   "cell_type": "code",
   "execution_count": 8,
   "id": "c8b907ae",
   "metadata": {},
   "outputs": [
    {
     "name": "stdout",
     "output_type": "stream",
     "text": [
      "Apples are better than oranges.\n",
      "Vitamin D is synthesized in presence of sunlight.\n"
     ]
    }
   ],
   "source": [
    "print(\"Apples are better than oranges.\");\n",
    "print(\"Vitamin D is synthesized in presence of sunlight.\");"
   ]
  },
  {
   "cell_type": "code",
   "execution_count": 23,
   "id": "4a16f774",
   "metadata": {},
   "outputs": [
    {
     "name": "stdout",
     "output_type": "stream",
     "text": [
      "porsche is a car brand.\n",
      "porsche is a car brand.\n",
      "This is a paragraph. Triple quotes are used to print paragraphs that span across multiple lines.\n",
      "Here we don't even need to use the line continuation character(/).\n"
     ]
    }
   ],
   "source": [
    "a='porsche is a car brand.' ;print(a);\n",
    "b= \"porsche is a car brand.\" ;print(b);\n",
    "c='''This is a paragraph. Triple quotes are used to print paragraphs that span across multiple lines.\n",
    "Here we don't even need to use the line continuation character(/).'''\n",
    "print(c);"
   ]
  },
  {
   "cell_type": "code",
   "execution_count": 20,
   "id": "a0d51481",
   "metadata": {},
   "outputs": [
    {
     "name": "stdout",
     "output_type": "stream",
     "text": [
      "Python doesn't actually support multiline comments. The only way is to repeatedly use # symbol.\n",
      "Using triple quotes could actually be misinterpreted as docstrings.\n"
     ]
    }
   ],
   "source": [
    "print(\"\"\"Python doesn't actually support multiline comments. The only way is to repeatedly use # symbol.\n",
    "Using triple quotes could actually be misinterpreted as docstrings.\"\"\")\n",
    "#multiline comment\n",
    "#multiline comment"
   ]
  },
  {
   "cell_type": "code",
   "execution_count": 1,
   "id": "9e6fed2b",
   "metadata": {},
   "outputs": [
    {
     "name": "stdout",
     "output_type": "stream",
     "text": [
      "I am the best.\n"
     ]
    },
    {
     "ename": "NameError",
     "evalue": "name 'raw_input' is not defined",
     "output_type": "error",
     "traceback": [
      "\u001b[1;31m---------------------------------------------------------------------------\u001b[0m",
      "\u001b[1;31mNameError\u001b[0m                                 Traceback (most recent call last)",
      "\u001b[1;32m~\\AppData\\Local\\Temp/ipykernel_7240/964149019.py\u001b[0m in \u001b[0;36m<module>\u001b[1;34m\u001b[0m\n\u001b[0;32m      1\u001b[0m \u001b[0mprint\u001b[0m\u001b[1;33m(\u001b[0m\u001b[1;34m\"I am the best.\"\u001b[0m\u001b[1;33m)\u001b[0m\u001b[1;33m;\u001b[0m\u001b[1;33m\u001b[0m\u001b[1;33m\u001b[0m\u001b[0m\n\u001b[1;32m----> 2\u001b[1;33m \u001b[0mraw_input\u001b[0m\u001b[1;33m(\u001b[0m\u001b[1;34m\"\\n\\nPress enter key to exit the program.\"\u001b[0m\u001b[1;33m)\u001b[0m\u001b[1;33m\u001b[0m\u001b[1;33m\u001b[0m\u001b[0m\n\u001b[0m",
      "\u001b[1;31mNameError\u001b[0m: name 'raw_input' is not defined"
     ]
    }
   ],
   "source": [
    "print(\"I am the best.\");\n",
    "raw_input(\"\\n\\nPress enter key to exit the program.\")"
   ]
  },
  {
   "cell_type": "code",
   "execution_count": 26,
   "id": "69d7565e",
   "metadata": {},
   "outputs": [
    {
     "name": "stdout",
     "output_type": "stream",
     "text": [
      "Cryptocurrency is the new trend in finance.\n",
      "currency\n",
      "crec\n",
      "currency is the new trend in finance.\n",
      ".ecnanif\n",
      "finance\n",
      "Cryptocurrency is the new trend in finance.Cryptocurrency is the new trend in finance.\n",
      "Cryptocurrency is the new trend in finance.But it has a high risk factor.\n",
      "C\n"
     ]
    }
   ],
   "source": [
    "a=\"Cryptocurrency is the new trend in finance.\"\n",
    "print (a)\n",
    "print (a[6:14]) # the end is exclusive.\n",
    "print (a[6:14:2]) #[start:exlusive end:step size]\n",
    "print (a[6:])\n",
    "print(a[-1:-9:-1]) #reverse indexing of strings\n",
    "print(a[-8:-1:1]) \n",
    "print (a*2)\n",
    "print (a+\"But it has a high risk factor.\")\n",
    "print (a[0]) "
   ]
  },
  {
   "cell_type": "code",
   "execution_count": 6,
   "id": "97a09483",
   "metadata": {},
   "outputs": [
    {
     "name": "stdout",
     "output_type": "stream",
     "text": [
      "mercury\n",
      "[23, 456.89]\n",
      "['john', 'R']\n",
      "['caramel', 'toffee', 'caramel', 'toffee']\n",
      "['mercury', 23, 456.89, 'john', 'R', 'caramel', 'toffee']\n"
     ]
    }
   ],
   "source": [
    "list1= [\"mercury\", 23, 456.89, \"john\", \"R\"]\n",
    "list2= [\"caramel\", \"toffee\"]\n",
    "print (list1[0])\n",
    "print (list1[1:3])\n",
    "print (list1[3:])\n",
    "print (list2 *2)\n",
    "print (list1+list2)"
   ]
  },
  {
   "cell_type": "code",
   "execution_count": 4,
   "id": "49926802",
   "metadata": {},
   "outputs": [
    {
     "name": "stdout",
     "output_type": "stream",
     "text": [
      "('scorpio', 45.23, -2, 'S', 'aquarius', 'aries', 34.1231, 'aries')\n",
      "scorpio and aquarius\n",
      "aries\n",
      "2\n",
      "2\n"
     ]
    },
    {
     "ename": "TypeError",
     "evalue": "'tuple' object does not support item assignment",
     "output_type": "error",
     "traceback": [
      "\u001b[1;31m---------------------------------------------------------------------------\u001b[0m",
      "\u001b[1;31mTypeError\u001b[0m                                 Traceback (most recent call last)",
      "\u001b[1;32m~\\AppData\\Local\\Temp/ipykernel_33840/748271088.py\u001b[0m in \u001b[0;36m<module>\u001b[1;34m\u001b[0m\n\u001b[0;32m     11\u001b[0m \u001b[1;33m\u001b[0m\u001b[0m\n\u001b[0;32m     12\u001b[0m \u001b[0mlist1\u001b[0m \u001b[1;33m=\u001b[0m \u001b[1;33m[\u001b[0m\u001b[1;34m\"mercury\"\u001b[0m\u001b[1;33m,\u001b[0m \u001b[1;36m23\u001b[0m\u001b[1;33m,\u001b[0m \u001b[1;36m456.89\u001b[0m\u001b[1;33m,\u001b[0m \u001b[1;34m\"john\"\u001b[0m\u001b[1;33m,\u001b[0m \u001b[1;34m\"R\"\u001b[0m\u001b[1;33m]\u001b[0m\u001b[1;33m\u001b[0m\u001b[1;33m\u001b[0m\u001b[0m\n\u001b[1;32m---> 13\u001b[1;33m \u001b[0mtuple1\u001b[0m\u001b[1;33m[\u001b[0m\u001b[1;36m3\u001b[0m\u001b[1;33m]\u001b[0m\u001b[1;33m=\u001b[0m\u001b[1;34m\"R\"\u001b[0m  \u001b[1;31m#invalid, as tuple can't be edited. ERROR: 'tuple' object does not support item assignment\u001b[0m\u001b[1;33m\u001b[0m\u001b[1;33m\u001b[0m\u001b[0m\n\u001b[0m\u001b[0;32m     14\u001b[0m \u001b[0mlist1\u001b[0m\u001b[1;33m[\u001b[0m\u001b[1;36m2\u001b[0m\u001b[1;33m]\u001b[0m\u001b[1;33m=\u001b[0m \u001b[1;36m1000\u001b[0m  \u001b[1;31m#valid, since lists can be edited.\u001b[0m\u001b[1;33m\u001b[0m\u001b[1;33m\u001b[0m\u001b[0m\n\u001b[0;32m     15\u001b[0m \u001b[1;31m#But there is a loophole in the fact that tuples are immutable.Create a dictionary/list inside the tuple and then edit it.\u001b[0m\u001b[1;33m\u001b[0m\u001b[1;33m\u001b[0m\u001b[0m\n",
      "\u001b[1;31mTypeError\u001b[0m: 'tuple' object does not support item assignment"
     ]
    }
   ],
   "source": [
    "#Lists are enclosed in brackets [ ] and their elements and size can be changed,\n",
    "# while tuples are enclosed in parentheses ( ) and cannot be updated. Tuples can be thought of as read-only lists.\n",
    "\n",
    "tuple1= (\"scorpio\", 45.23, -2, \"S\", \"aquarius\")\n",
    "tuple2= (\"aries\", 34.1231,\"aries\")\n",
    "print (tuple1+tuple2)\n",
    "print (tuple1[0],\"and\",tuple1[4])\n",
    "print (tuple2[0])\n",
    "print(tuple1.index(-2))\n",
    "print(tuple2.count(\"aries\"))\n",
    "\n",
    "list1 = [\"mercury\", 23, 456.89, \"john\", \"R\"]\n",
    "tuple1[3]=\"R\"  #invalid, as tuple can't be edited. ERROR: 'tuple' object does not support item assignment\n",
    "list1[2]= 1000  #valid, since lists can be edited.\n",
    "#But there is a loophole in the fact that tuples are immutable.Create a dictionary/list inside the tuple and then edit it."
   ]
  },
  {
   "cell_type": "code",
   "execution_count": 1,
   "id": "9411842f",
   "metadata": {},
   "outputs": [
    {
     "data": {
      "text/plain": [
       "'C:\\\\Users\\\\rdhkd\\\\coincent python and ML'"
      ]
     },
     "execution_count": 1,
     "metadata": {},
     "output_type": "execute_result"
    }
   ],
   "source": [
    "pwd # print working directory- gives location of saved files"
   ]
  },
  {
   "cell_type": "code",
   "execution_count": 4,
   "id": "c4683d48",
   "metadata": {},
   "outputs": [
    {
     "name": "stdout",
     "output_type": "stream",
     "text": [
      "['False', 'None', 'True', '__peg_parser__', 'and', 'as', 'assert', 'async', 'await', 'break', 'class', 'continue', 'def', 'del', 'elif', 'else', 'except', 'finally', 'for', 'from', 'global', 'if', 'import', 'in', 'is', 'lambda', 'nonlocal', 'not', 'or', 'pass', 'raise', 'return', 'try', 'while', 'with', 'yield']\n",
      "no. of keywords= 36\n"
     ]
    }
   ],
   "source": [
    "import keyword\n",
    "print (keyword.kwlist)\n",
    "print (\"no. of keywords=\", len(keyword.kwlist))"
   ]
  },
  {
   "cell_type": "code",
   "execution_count": 31,
   "id": "4b00e538",
   "metadata": {},
   "outputs": [
    {
     "name": "stdout",
     "output_type": "stream",
     "text": [
      "<class 'int'>\n",
      "<class 'float'>\n",
      "<class 'int'>\n",
      "<class 'complex'>\n",
      "<class 'str'>\n",
      "<class 'str'>\n",
      "k\n"
     ]
    },
    {
     "ename": "TypeError",
     "evalue": "'str' object does not support item assignment",
     "output_type": "error",
     "traceback": [
      "\u001b[1;31m---------------------------------------------------------------------------\u001b[0m",
      "\u001b[1;31mTypeError\u001b[0m                                 Traceback (most recent call last)",
      "\u001b[1;32m~\\AppData\\Local\\Temp/ipykernel_28744/1863897524.py\u001b[0m in \u001b[0;36m<module>\u001b[1;34m\u001b[0m\n\u001b[0;32m      7\u001b[0m \u001b[0mprint\u001b[0m \u001b[1;33m(\u001b[0m\u001b[0mtype\u001b[0m\u001b[1;33m(\u001b[0m\u001b[0mb\u001b[0m\u001b[1;33m)\u001b[0m\u001b[1;33m)\u001b[0m\u001b[1;33m\u001b[0m\u001b[1;33m\u001b[0m\u001b[0m\n\u001b[0;32m      8\u001b[0m \u001b[0mprint\u001b[0m \u001b[1;33m(\u001b[0m\u001b[0ma\u001b[0m\u001b[1;33m[\u001b[0m\u001b[1;36m3\u001b[0m\u001b[1;33m]\u001b[0m\u001b[1;33m)\u001b[0m\u001b[1;33m\u001b[0m\u001b[1;33m\u001b[0m\u001b[0m\n\u001b[1;32m----> 9\u001b[1;33m \u001b[0ma\u001b[0m\u001b[1;33m[\u001b[0m\u001b[1;36m3\u001b[0m\u001b[1;33m]\u001b[0m\u001b[1;33m=\u001b[0m \u001b[1;34m\"J\"\u001b[0m \u001b[1;31m# This is invalid because strings are immutable. They do not support item assignment.\u001b[0m\u001b[1;33m\u001b[0m\u001b[1;33m\u001b[0m\u001b[0m\n\u001b[0m",
      "\u001b[1;31mTypeError\u001b[0m: 'str' object does not support item assignment"
     ]
    }
   ],
   "source": [
    "print(type(5+4))\n",
    "print(type(6/4))\n",
    "print(type(86799705387))\n",
    "print(type(5+4j))\n",
    "a=b=c=\"Milky Way\"\n",
    "print (type(a))\n",
    "print (type(b))\n",
    "print (a[3])\n",
    "a[3]= \"J\" # This is invalid because strings are immutable. They do not support item assignment."
   ]
  },
  {
   "cell_type": "code",
   "execution_count": 35,
   "id": "1fda3b3e",
   "metadata": {},
   "outputs": [
    {
     "name": "stdout",
     "output_type": "stream",
     "text": [
      "Dr.Strange\n",
      "177 Bleecker Street\n",
      "Sorcerer Supreme\n",
      "{'name': 'Dr.Strange', 'address': '177 Bleecker Street', 'occupation': 'Sorcerer Supreme'}\n",
      "dict_keys(['name', 'address', 'occupation'])\n",
      "dict_values(['Dr.Strange', '177 Bleecker Street', 'Sorcerer Supreme'])\n",
      "frog\n"
     ]
    }
   ],
   "source": [
    "dict1 = {'name':'Dr.Strange','address':'177 Bleecker Street','occupation':'Sorcerer Supreme'}\n",
    "print(dict1['name'])\n",
    "print (dict1['address'])\n",
    "print (dict1['occupation'])\n",
    "print (dict1)\n",
    "print (dict1.keys()) #Dictionaries have no concept of order among elements. \n",
    "#It is incorrect to say that the elements are \"out of order\"; they are simply unordered.\n",
    "print(dict1.values())\n",
    "dict2 = {2:'frog',3:'owl',4:'panther'}\n",
    "print(dict2[2])"
   ]
  },
  {
   "cell_type": "code",
   "execution_count": 41,
   "id": "cac79c51",
   "metadata": {},
   "outputs": [
    {
     "name": "stdout",
     "output_type": "stream",
     "text": [
      "Spiderman\n",
      "Webshooters\n",
      "Spidey-sense\n",
      "Spidey\n",
      "Webs\n"
     ]
    }
   ],
   "source": [
    "#nested dictionary\n",
    "d={'name':'Spiderman','address':'Queens, New York','superpowers':{1:'Webshooters',2:'Super-strength',3:'Spidey-sense'}}\n",
    "print(d['name'])\n",
    "print(d['superpowers'][1])\n",
    "print(d['superpowers'][3])\n",
    "print(d['superpowers'][3][0:6:1])\n",
    "print(d['superpowers'][1][:4])  # Dictionaries,lists are mutable. Strings,tuples are immutable."
   ]
  },
  {
   "cell_type": "code",
   "execution_count": 11,
   "id": "5a563f0e",
   "metadata": {},
   "outputs": [
    {
     "name": "stdout",
     "output_type": "stream",
     "text": [
      "<class 'str'>\n",
      "<class 'tuple'>\n"
     ]
    }
   ],
   "source": [
    "t=(\"sun\")\n",
    "s=(\"sun\",)\n",
    "print(type(t))\n",
    "print(type(s))"
   ]
  },
  {
   "cell_type": "code",
   "execution_count": null,
   "id": "faec25a1",
   "metadata": {},
   "outputs": [],
   "source": []
  }
 ],
 "metadata": {
  "kernelspec": {
   "display_name": "Python 3 (ipykernel)",
   "language": "python",
   "name": "python3"
  },
  "language_info": {
   "codemirror_mode": {
    "name": "ipython",
    "version": 3
   },
   "file_extension": ".py",
   "mimetype": "text/x-python",
   "name": "python",
   "nbconvert_exporter": "python",
   "pygments_lexer": "ipython3",
   "version": "3.9.7"
  }
 },
 "nbformat": 4,
 "nbformat_minor": 5
}
