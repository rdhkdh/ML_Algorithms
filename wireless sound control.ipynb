{
 "cells": [
  {
   "cell_type": "code",
   "execution_count": 1,
   "id": "0558e29d",
   "metadata": {},
   "outputs": [],
   "source": [
    "import cv2\n"
   ]
  },
  {
   "cell_type": "code",
   "execution_count": null,
   "id": "1f72d466",
   "metadata": {},
   "outputs": [],
   "source": [
    "vid = cv2.VideoCapture(0) #opens camera\n",
    "while True:\n",
    "    success, img = vid.read() #to keep refreshing the camera image read\n",
    "    \n",
    "# since mediapipe handles only RGB images, we have to convert:\n",
    "    cv2.cvtColor(img, cv2.COLOR_BGR2RGB)"
   ]
  },
  {
   "cell_type": "code",
   "execution_count": null,
   "id": "1443d023",
   "metadata": {},
   "outputs": [],
   "source": []
  }
 ],
 "metadata": {
  "kernelspec": {
   "display_name": "Python 3 (ipykernel)",
   "language": "python",
   "name": "python3"
  },
  "language_info": {
   "codemirror_mode": {
    "name": "ipython",
    "version": 3
   },
   "file_extension": ".py",
   "mimetype": "text/x-python",
   "name": "python",
   "nbconvert_exporter": "python",
   "pygments_lexer": "ipython3",
   "version": "3.9.7"
  }
 },
 "nbformat": 4,
 "nbformat_minor": 5
}
