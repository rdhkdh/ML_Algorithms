{
 "cells": [
  {
   "cell_type": "code",
   "execution_count": 6,
   "id": "827307d5",
   "metadata": {},
   "outputs": [
    {
     "name": "stdout",
     "output_type": "stream",
     "text": [
      "Enter your score out of 360:250\n",
      "Rank between 100-1500\n"
     ]
    }
   ],
   "source": [
    "x= int(input(\"Enter your score out of 360:\"))\n",
    "if x>=300:\n",
    "    print(\"Rank between 1-100\")\n",
    "elif x<300 and x>=200: \n",
    "    print('Rank between 100-1500')\n",
    "elif x<200:\n",
    "    print(\"rank between 1500-10000\")"
   ]
  },
  {
   "cell_type": "code",
   "execution_count": 14,
   "id": "2951eeb8",
   "metadata": {},
   "outputs": [
    {
     "name": "stdout",
     "output_type": "stream",
     "text": [
      "Enter your age:5\n",
      "You are not eligible for driving license.\n"
     ]
    }
   ],
   "source": [
    "y=int(input (\"Enter your age:\"))\n",
    "if y>=18:\n",
    "    if y>=40 and y<60: print(\"You are eligible for renewal of driving license.\")\n",
    "    elif y>=60: print(\"You are eligible for senior citizen benefits.\")\n",
    "    else: print(\"You are eligible for driving license.\")\n",
    "elif y>=16 and y<18: print(\"You are eligible for learner's license.\")  \n",
    "else: print(\"You are not eligible for driving license.\")"
   ]
  },
  {
   "cell_type": "code",
   "execution_count": 11,
   "id": "7798d231",
   "metadata": {},
   "outputs": [
    {
     "name": "stdout",
     "output_type": "stream",
     "text": [
      "Enter a no. to obtain its multiplication table:13\n",
      "13 * 1 = 13\n",
      "13 * 2 = 26\n",
      "13 * 3 = 39\n",
      "13 * 4 = 52\n",
      "13 * 5 = 65\n",
      "13 * 6 = 78\n",
      "13 * 7 = 91\n",
      "13 * 8 = 104\n",
      "13 * 9 = 117\n",
      "13 * 10 = 130\n"
     ]
    }
   ],
   "source": [
    "y=int(input(\"Enter a no. to obtain its multiplication table:\"))  # ALWAYS specify the data type of input.\n",
    "x=1\n",
    "while x<=10:\n",
    "    print(y,\"*\",x,\"=\",y*x)\n",
    "    x=x+1"
   ]
  },
  {
   "cell_type": "code",
   "execution_count": 16,
   "id": "0d1d06c5",
   "metadata": {},
   "outputs": [
    {
     "name": "stdout",
     "output_type": "stream",
     "text": [
      "Enter no. to obtain its multiplication table:15\n",
      "15 * 1 = 15\n",
      "15 * 2 = 30\n",
      "15 * 3 = 45\n",
      "15 * 4 = 60\n",
      "15 * 5 = 75\n",
      "15 * 6 = 90\n",
      "15 * 7 = 105\n",
      "15 * 8 = 120\n",
      "15 * 9 = 135\n",
      "15 * 10 = 150\n"
     ]
    }
   ],
   "source": [
    "y=int(input(\"Enter no. to obtain its multiplication table:\"))\n",
    "      \n",
    "for i in range(1, 11): #exclusive end\n",
    "   print(y, '*', i, '=', y*i)\n"
   ]
  },
  {
   "cell_type": "code",
   "execution_count": 22,
   "id": "146d6386",
   "metadata": {},
   "outputs": [
    {
     "name": "stdout",
     "output_type": "stream",
     "text": [
      "current letter is: p\n",
      "current letter is: y\n",
      "current letter is: t\n",
      "goodbye!\n"
     ]
    }
   ],
   "source": [
    "#pass,break,continue-loop controls\n",
    "for x in 'python':\n",
    "    if x=='h': break\n",
    "    print(\"current letter is:\",x)\n",
    "print (\"goodbye!\")"
   ]
  },
  {
   "cell_type": "code",
   "execution_count": 23,
   "id": "7fd6249b",
   "metadata": {},
   "outputs": [
    {
     "name": "stdout",
     "output_type": "stream",
     "text": [
      "current letter is: p\n",
      "current letter is: y\n",
      "current letter is: t\n",
      "current letter is: h\n",
      "goodbye!\n"
     ]
    }
   ],
   "source": [
    "#pass,break,continue-loop controls\n",
    "for x in 'python':\n",
    "    print(\"current letter is:\",x)\n",
    "    if x=='h': break\n",
    "print (\"goodbye!\")\n",
    "# Note the difference in outputs. This is because interpreter executes line by line."
   ]
  },
  {
   "cell_type": "code",
   "execution_count": 25,
   "id": "ac76afe7",
   "metadata": {},
   "outputs": [
    {
     "name": "stdout",
     "output_type": "stream",
     "text": [
      "current letter is: p\n",
      "current letter is: y\n",
      "current letter is: t\n",
      "current letter is: o\n",
      "current letter is: n\n",
      "goodbye!\n"
     ]
    }
   ],
   "source": [
    "for x in 'python':\n",
    "    if x=='h': continue\n",
    "    print(\"current letter is:\",x)\n",
    "print (\"goodbye!\")"
   ]
  },
  {
   "cell_type": "code",
   "execution_count": 29,
   "id": "3d8c0ad8",
   "metadata": {},
   "outputs": [
    {
     "name": "stdout",
     "output_type": "stream",
     "text": [
      "current letter is: p\n",
      "current letter is: y\n",
      "current letter is: t\n",
      "This is the pass code.\n",
      "current letter is: h\n",
      "current letter is: o\n",
      "current letter is: n\n",
      "goodbye!\n"
     ]
    }
   ],
   "source": [
    "for x in 'python':\n",
    "    if x=='h': \n",
    "        pass\n",
    "        print (\"This is the pass code.\")\n",
    "    print(\"current letter is:\",x)\n",
    "print (\"goodbye!\")"
   ]
  },
  {
   "cell_type": "code",
   "execution_count": 1,
   "id": "2dacf344",
   "metadata": {},
   "outputs": [
    {
     "name": "stdout",
     "output_type": "stream",
     "text": [
      "1\n",
      "2\n",
      "3\n",
      "4\n"
     ]
    }
   ],
   "source": [
    "x=[1,2,3,4]\n",
    "for i in x:\n",
    "    print(i)"
   ]
  },
  {
   "cell_type": "code",
   "execution_count": null,
   "id": "a9ce8b20",
   "metadata": {},
   "outputs": [],
   "source": []
  }
 ],
 "metadata": {
  "kernelspec": {
   "display_name": "Python 3 (ipykernel)",
   "language": "python",
   "name": "python3"
  },
  "language_info": {
   "codemirror_mode": {
    "name": "ipython",
    "version": 3
   },
   "file_extension": ".py",
   "mimetype": "text/x-python",
   "name": "python",
   "nbconvert_exporter": "python",
   "pygments_lexer": "ipython3",
   "version": "3.9.7"
  }
 },
 "nbformat": 4,
 "nbformat_minor": 5
}
