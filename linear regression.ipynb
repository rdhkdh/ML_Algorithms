{
 "cells": [
  {
   "cell_type": "markdown",
   "id": "da11ba58",
   "metadata": {},
   "source": [
    "fuel vs mileage"
   ]
  },
  {
   "cell_type": "code",
   "execution_count": 1,
   "id": "07858ac5",
   "metadata": {},
   "outputs": [
    {
     "data": {
      "text/html": [
       "<div>\n",
       "<style scoped>\n",
       "    .dataframe tbody tr th:only-of-type {\n",
       "        vertical-align: middle;\n",
       "    }\n",
       "\n",
       "    .dataframe tbody tr th {\n",
       "        vertical-align: top;\n",
       "    }\n",
       "\n",
       "    .dataframe thead th {\n",
       "        text-align: right;\n",
       "    }\n",
       "</style>\n",
       "<table border=\"1\" class=\"dataframe\">\n",
       "  <thead>\n",
       "    <tr style=\"text-align: right;\">\n",
       "      <th></th>\n",
       "      <th>fuel_amount</th>\n",
       "      <th>vehicle_mileage</th>\n",
       "    </tr>\n",
       "  </thead>\n",
       "  <tbody>\n",
       "    <tr>\n",
       "      <th>0</th>\n",
       "      <td>8.3</td>\n",
       "      <td>128.3</td>\n",
       "    </tr>\n",
       "    <tr>\n",
       "      <th>1</th>\n",
       "      <td>16.4</td>\n",
       "      <td>138.3</td>\n",
       "    </tr>\n",
       "    <tr>\n",
       "      <th>2</th>\n",
       "      <td>17.4</td>\n",
       "      <td>142.7</td>\n",
       "    </tr>\n",
       "    <tr>\n",
       "      <th>3</th>\n",
       "      <td>13.1</td>\n",
       "      <td>160.1</td>\n",
       "    </tr>\n",
       "    <tr>\n",
       "      <th>4</th>\n",
       "      <td>12.3</td>\n",
       "      <td>170.1</td>\n",
       "    </tr>\n",
       "  </tbody>\n",
       "</table>\n",
       "</div>"
      ],
      "text/plain": [
       "   fuel_amount  vehicle_mileage\n",
       "0          8.3            128.3\n",
       "1         16.4            138.3\n",
       "2         17.4            142.7\n",
       "3         13.1            160.1\n",
       "4         12.3            170.1"
      ]
     },
     "execution_count": 1,
     "metadata": {},
     "output_type": "execute_result"
    }
   ],
   "source": [
    "import numpy as np\n",
    "import pandas as pd\n",
    "dataset1= pd.read_csv(r'C:\\Users\\rdhkd\\coincent python and ML\\fuel vs mileage.csv')\n",
    "dataset1.head()"
   ]
  },
  {
   "cell_type": "code",
   "execution_count": 2,
   "id": "9bf949a4",
   "metadata": {},
   "outputs": [
    {
     "data": {
      "text/plain": [
       "(39, 2)"
      ]
     },
     "execution_count": 2,
     "metadata": {},
     "output_type": "execute_result"
    }
   ],
   "source": [
    "f = dataset1.iloc[:, :-1].values\n",
    "m = dataset1.iloc[:, -1].values\n",
    "\n",
    "dataset1.shape\n"
   ]
  },
  {
   "cell_type": "code",
   "execution_count": 3,
   "id": "86b7414e",
   "metadata": {},
   "outputs": [
    {
     "data": {
      "text/plain": [
       "array([[ 8.3],\n",
       "       [16.4],\n",
       "       [17.4],\n",
       "       [13.1],\n",
       "       [12.3],\n",
       "       [15.1],\n",
       "       [20.7],\n",
       "       [17.1],\n",
       "       [23.4],\n",
       "       [17.3],\n",
       "       [24.7],\n",
       "       [26.4],\n",
       "       [22.1],\n",
       "       [23.1],\n",
       "       [24.1],\n",
       "       [29.7],\n",
       "       [31.4],\n",
       "       [27.1],\n",
       "       [33.4],\n",
       "       [33.7],\n",
       "       [30.1],\n",
       "       [36.4],\n",
       "       [37.4],\n",
       "       [37.7],\n",
       "       [38.7],\n",
       "       [35.1],\n",
       "       [40.7],\n",
       "       [41.7],\n",
       "       [38.1],\n",
       "       [43.7],\n",
       "       [38.3],\n",
       "       [39.3],\n",
       "       [40.3],\n",
       "       [41.3],\n",
       "       [49.4],\n",
       "       [43.3],\n",
       "       [51.4],\n",
       "       [45.3],\n",
       "       [52.7]])"
      ]
     },
     "execution_count": 3,
     "metadata": {},
     "output_type": "execute_result"
    }
   ],
   "source": [
    "f"
   ]
  },
  {
   "cell_type": "code",
   "execution_count": 4,
   "id": "df688610",
   "metadata": {},
   "outputs": [],
   "source": [
    "import numpy as np\n",
    "from array import array\n",
    "from sklearn.model_selection import train_test_split\n",
    "x_train, x_test, y_train, y_test = train_test_split(f, m, test_size=0.33, random_state=42)\n",
    "# train size is complement of test size."
   ]
  },
  {
   "cell_type": "code",
   "execution_count": 5,
   "id": "db5041c1",
   "metadata": {},
   "outputs": [
    {
     "data": {
      "text/plain": [
       "array([[22.1],\n",
       "       [33.7],\n",
       "       [17.3],\n",
       "       [40.3],\n",
       "       [ 8.3],\n",
       "       [35.1],\n",
       "       [15.1],\n",
       "       [26.4],\n",
       "       [16.4],\n",
       "       [45.3],\n",
       "       [36.4],\n",
       "       [17.4],\n",
       "       [43.7],\n",
       "       [43.3],\n",
       "       [13.1],\n",
       "       [49.4],\n",
       "       [37.7],\n",
       "       [39.3],\n",
       "       [24.7],\n",
       "       [37.4],\n",
       "       [33.4],\n",
       "       [30.1],\n",
       "       [17.1],\n",
       "       [24.1],\n",
       "       [38.1],\n",
       "       [52.7]])"
      ]
     },
     "execution_count": 5,
     "metadata": {},
     "output_type": "execute_result"
    }
   ],
   "source": [
    "x_train"
   ]
  },
  {
   "cell_type": "code",
   "execution_count": 6,
   "id": "724cf2df",
   "metadata": {},
   "outputs": [
    {
     "data": {
      "text/plain": [
       "(26, 1)"
      ]
     },
     "execution_count": 6,
     "metadata": {},
     "output_type": "execute_result"
    }
   ],
   "source": [
    "x_train.shape"
   ]
  },
  {
   "cell_type": "code",
   "execution_count": 7,
   "id": "8f1baeb4",
   "metadata": {},
   "outputs": [
    {
     "data": {
      "text/plain": [
       "(13, 1)"
      ]
     },
     "execution_count": 7,
     "metadata": {},
     "output_type": "execute_result"
    }
   ],
   "source": [
    "x_test.shape"
   ]
  },
  {
   "cell_type": "code",
   "execution_count": 8,
   "id": "0720786c",
   "metadata": {},
   "outputs": [
    {
     "data": {
      "text/plain": [
       "LinearRegression()"
      ]
     },
     "execution_count": 8,
     "metadata": {},
     "output_type": "execute_result"
    }
   ],
   "source": [
    "from sklearn.linear_model import LinearRegression\n",
    "obj1= LinearRegression()\n",
    "obj1.fit(x_train,y_train)"
   ]
  },
  {
   "cell_type": "markdown",
   "id": "4025f398",
   "metadata": {},
   "source": [
    "Now the model has been trained."
   ]
  },
  {
   "cell_type": "code",
   "execution_count": 9,
   "id": "8da713ed",
   "metadata": {},
   "outputs": [],
   "source": [
    "y_pred= obj1.predict(x_test)"
   ]
  },
  {
   "cell_type": "code",
   "execution_count": 10,
   "id": "a7a8726b",
   "metadata": {},
   "outputs": [
    {
     "data": {
      "text/plain": [
       "array([458.3, 480.4, 170.1, 258.3, 420.4, 380.4, 190.1, 390.4, 370.1,\n",
       "       280.1, 292.7, 208.3, 290.1])"
      ]
     },
     "execution_count": 10,
     "metadata": {},
     "output_type": "execute_result"
    }
   ],
   "source": [
    "y_test #actual values of mileage."
   ]
  },
  {
   "cell_type": "code",
   "execution_count": 11,
   "id": "32348839",
   "metadata": {},
   "outputs": [
    {
     "data": {
      "text/plain": [
       "array([414.64600734, 511.66663629, 136.07192422, 239.81675517,\n",
       "       385.82799874, 408.88240562, 216.76234829, 418.48840849,\n",
       "       389.67039989, 303.21637409, 278.24076664, 242.69855603,\n",
       "       319.54657896])"
      ]
     },
     "execution_count": 11,
     "metadata": {},
     "output_type": "execute_result"
    }
   ],
   "source": [
    "y_pred #predicted values of mileage."
   ]
  },
  {
   "cell_type": "code",
   "execution_count": 14,
   "id": "ecf07322",
   "metadata": {},
   "outputs": [
    {
     "data": {
      "text/plain": [
       "Text(0.5, 1.0, 'TEST SET OUTPUT')"
      ]
     },
     "execution_count": 14,
     "metadata": {},
     "output_type": "execute_result"
    },
    {
     "data": {
      "image/png": "[encoded data removed]",
      "text/plain": [
       "<Figure size 432x288 with 1 Axes>"
      ]
     },
     "metadata": {
      "needs_background": "light"
     },
     "output_type": "display_data"
    }
   ],
   "source": [
    "import matplotlib.pyplot as mplt\n",
    "mplt.scatter(x_test,y_test)\n",
    "mplt.plot(x_test, y_pred, c='red') \n",
    "mplt.xlabel('fuel amount in litres')\n",
    "mplt.ylabel('mileage in Km') \n",
    "mplt.title('TEST SET OUTPUT')"
   ]
  },
  {
   "cell_type": "markdown",
   "id": "8ec89287",
   "metadata": {},
   "source": [
    "we have now predicted the best fit line from test data. blue dots actual data. red line is predicted data.\n",
    "Let's now visualise how our training data was looking like:"
   ]
  },
  {
   "cell_type": "code",
   "execution_count": 15,
   "id": "69d451ed",
   "metadata": {},
   "outputs": [
    {
     "data": {
      "text/plain": [
       "Text(0.5, 1.0, 'TRAINING SET OUTPUT')"
      ]
     },
     "execution_count": 15,
     "metadata": {},
     "output_type": "execute_result"
    },
    {
     "data": {
      "image/png": "[encoded data removed]",
      "text/plain": [
       "<Figure size 432x288 with 1 Axes>"
      ]
     },
     "metadata": {
      "needs_background": "light"
     },
     "output_type": "display_data"
    }
   ],
   "source": [
    "import matplotlib.pyplot as mplt\n",
    "mplt.scatter(x_train,y_train)\n",
    "mplt.plot(x_train, obj1.predict(x_train), c='red') \n",
    "mplt.xlabel('fuel amount in litres')\n",
    "mplt.ylabel('mileage in Km') \n",
    "mplt.title('TRAINING SET OUTPUT')"
   ]
  },
  {
   "cell_type": "code",
   "execution_count": null,
   "id": "aef71876",
   "metadata": {},
   "outputs": [],
   "source": []
  }
 ],
 "metadata": {
  "kernelspec": {
   "display_name": "Python 3 (ipykernel)",
   "language": "python",
   "name": "python3"
  },
  "language_info": {
   "codemirror_mode": {
    "name": "ipython",
    "version": 3
   },
   "file_extension": ".py",
   "mimetype": "text/x-python",
   "name": "python",
   "nbconvert_exporter": "python",
   "pygments_lexer": "ipython3",
   "version": "3.9.7"
  }
 },
 "nbformat": 4,
 "nbformat_minor": 5
}
