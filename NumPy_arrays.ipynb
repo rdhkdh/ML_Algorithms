{
 "cells": [
  {
   "cell_type": "code",
   "execution_count": 1,
   "id": "512a6619",
   "metadata": {},
   "outputs": [
    {
     "name": "stdout",
     "output_type": "stream",
     "text": [
      "<class 'int'>\n"
     ]
    }
   ],
   "source": [
    "s='14'\n",
    "a=int(s) #typecasting\n",
    "print(type(a))"
   ]
  },
  {
   "cell_type": "markdown",
   "id": "819eff2c",
   "metadata": {},
   "source": [
    "Converting list to numpy array: "
   ]
  },
  {
   "cell_type": "code",
   "execution_count": 3,
   "id": "6602fd29",
   "metadata": {},
   "outputs": [
    {
     "data": {
      "text/plain": [
       "array([ 6, 54,  3,  6,  4, 10])"
      ]
     },
     "execution_count": 3,
     "metadata": {},
     "output_type": "execute_result"
    }
   ],
   "source": [
    "import numpy as np\n",
    "v=[6,54,3,6,4,10]\n",
    "np.array(v)"
   ]
  },
  {
   "cell_type": "code",
   "execution_count": 4,
   "id": "0f022d70",
   "metadata": {},
   "outputs": [
    {
     "name": "stdout",
     "output_type": "stream",
     "text": [
      "[ 6 54  3  6  4 10]\n"
     ]
    }
   ],
   "source": [
    "print( np.array(v))  #1D array"
   ]
  },
  {
   "cell_type": "code",
   "execution_count": 5,
   "id": "ad8c7522",
   "metadata": {},
   "outputs": [
    {
     "data": {
      "text/plain": [
       "(6,)"
      ]
     },
     "execution_count": 5,
     "metadata": {},
     "output_type": "execute_result"
    }
   ],
   "source": [
    "np.array(v).shape  #output means 1 row with 6 elements. "
   ]
  },
  {
   "cell_type": "code",
   "execution_count": 12,
   "id": "202887fb",
   "metadata": {},
   "outputs": [
    {
     "data": {
      "text/plain": [
       "(1, 6)"
      ]
     },
     "execution_count": 12,
     "metadata": {},
     "output_type": "execute_result"
    }
   ],
   "source": [
    "b=[[1,2,3,4,5,6]]   #output means 1 row with 6 columns.\n",
    "c=np.array(b)\n",
    "c.shape"
   ]
  },
  {
   "cell_type": "code",
   "execution_count": 6,
   "id": "245fd714",
   "metadata": {},
   "outputs": [
    {
     "data": {
      "text/plain": [
       "(6,)"
      ]
     },
     "execution_count": 6,
     "metadata": {},
     "output_type": "execute_result"
    }
   ],
   "source": [
    "x=np.array(v)\n",
    "x.shape"
   ]
  },
  {
   "cell_type": "code",
   "execution_count": 9,
   "id": "d8477b97",
   "metadata": {},
   "outputs": [
    {
     "name": "stdout",
     "output_type": "stream",
     "text": [
      "[[1 2 3]\n",
      " [8 5 7]\n",
      " [4 9 0]\n",
      " [3 6 4]]\n",
      "(4, 3)\n"
     ]
    }
   ],
   "source": [
    "r=[[1,2,3],[8,5,7],[4,9,0],[3,6,4]]\n",
    "y=np.array(r)\n",
    "print(y)\n",
    "print(y.shape)  #2D array"
   ]
  },
  {
   "cell_type": "code",
   "execution_count": 18,
   "id": "df8378c0",
   "metadata": {},
   "outputs": [
    {
     "name": "stdout",
     "output_type": "stream",
     "text": [
      "[[[1 2 3]\n",
      "  [3 2 1]\n",
      "  [2 1 3]]\n",
      "\n",
      " [[4 5 6]\n",
      "  [5 6 4]\n",
      "  [6 4 5]]\n",
      "\n",
      " [[7 8 9]\n",
      "  [8 9 7]\n",
      "  [9 7 8]]]\n",
      "(3, 3, 3)\n"
     ]
    }
   ],
   "source": [
    "#3D array\n",
    "s=[ [[1,2,3],[3,2,1],[2,1,3]], [[4,5,6],[5,6,4],[6,4,5]], [[7,8,9],[8,9,7],[9,7,8]] ]\n",
    "t=np.array(s)\n",
    "print(t)\n",
    "print(t.shape)"
   ]
  },
  {
   "cell_type": "code",
   "execution_count": 21,
   "id": "03c5b569",
   "metadata": {},
   "outputs": [
    {
     "name": "stdout",
     "output_type": "stream",
     "text": [
      "[ 3  6  9 12 15 18 21 24 27 30 33 36 39 42 45 48 51 54 57 60]\n",
      "[100  90  80  70  60]\n"
     ]
    }
   ],
   "source": [
    "print(np.arange(3,61,3))\n",
    "print(np.arange(100,50,-10))"
   ]
  },
  {
   "cell_type": "code",
   "execution_count": 22,
   "id": "88efc586",
   "metadata": {},
   "outputs": [
    {
     "data": {
      "text/plain": [
       "array([0., 0., 0., 0.])"
      ]
     },
     "execution_count": 22,
     "metadata": {},
     "output_type": "execute_result"
    }
   ],
   "source": [
    "np.zeros(4)"
   ]
  },
  {
   "cell_type": "code",
   "execution_count": 24,
   "id": "de5682fd",
   "metadata": {},
   "outputs": [
    {
     "data": {
      "text/plain": [
       "array([0, 0, 0, 0, 0])"
      ]
     },
     "execution_count": 24,
     "metadata": {},
     "output_type": "execute_result"
    }
   ],
   "source": [
    "np.zeros(5,dtype=int)"
   ]
  },
  {
   "cell_type": "code",
   "execution_count": 25,
   "id": "7ed4d1f7",
   "metadata": {},
   "outputs": [
    {
     "data": {
      "text/plain": [
       "array([1., 1., 1., 1., 1., 1., 1.])"
      ]
     },
     "execution_count": 25,
     "metadata": {},
     "output_type": "execute_result"
    }
   ],
   "source": [
    "np.ones(7)"
   ]
  },
  {
   "cell_type": "code",
   "execution_count": 29,
   "id": "2c47ebc3",
   "metadata": {},
   "outputs": [
    {
     "data": {
      "text/plain": [
       "array([ 1.,  2.,  3.,  4.,  5.,  6.,  7.,  8.,  9., 10., 11., 12., 13.,\n",
       "       14., 15., 16., 17., 18., 19., 20., 21., 22., 23., 24., 25., 26.,\n",
       "       27., 28., 29., 30., 31., 32., 33., 34., 35., 36., 37., 38., 39.,\n",
       "       40., 41., 42., 43., 44., 45., 46., 47., 48., 49., 50.])"
      ]
     },
     "execution_count": 29,
     "metadata": {},
     "output_type": "execute_result"
    }
   ],
   "source": [
    "np.linspace(1,50) #gives 50 equally spaced nos. in the interval. Note that endpoint is inclusive here.\n",
    "#read docstring."
   ]
  },
  {
   "cell_type": "code",
   "execution_count": 39,
   "id": "d3467836",
   "metadata": {},
   "outputs": [
    {
     "data": {
      "text/plain": [
       "array([2.        , 2.06122449, 2.12244898, 2.18367347, 2.24489796,\n",
       "       2.30612245, 2.36734694, 2.42857143, 2.48979592, 2.55102041,\n",
       "       2.6122449 , 2.67346939, 2.73469388, 2.79591837, 2.85714286,\n",
       "       2.91836735, 2.97959184, 3.04081633, 3.10204082, 3.16326531,\n",
       "       3.2244898 , 3.28571429, 3.34693878, 3.40816327, 3.46938776,\n",
       "       3.53061224, 3.59183673, 3.65306122, 3.71428571, 3.7755102 ,\n",
       "       3.83673469, 3.89795918, 3.95918367, 4.02040816, 4.08163265,\n",
       "       4.14285714, 4.20408163, 4.26530612, 4.32653061, 4.3877551 ,\n",
       "       4.44897959, 4.51020408, 4.57142857, 4.63265306, 4.69387755,\n",
       "       4.75510204, 4.81632653, 4.87755102, 4.93877551, 5.        ])"
      ]
     },
     "execution_count": 39,
     "metadata": {},
     "output_type": "execute_result"
    }
   ],
   "source": [
    "x=np.linspace(2,5)\n",
    "x"
   ]
  },
  {
   "cell_type": "code",
   "execution_count": 31,
   "id": "476baa36",
   "metadata": {},
   "outputs": [
    {
     "data": {
      "text/plain": [
       "array([ 1.  ,  3.25,  5.5 ,  7.75, 10.  ])"
      ]
     },
     "execution_count": 31,
     "metadata": {},
     "output_type": "execute_result"
    }
   ],
   "source": [
    "np.linspace(1,10,5)"
   ]
  },
  {
   "cell_type": "code",
   "execution_count": 33,
   "id": "cabb483b",
   "metadata": {},
   "outputs": [
    {
     "data": {
      "text/plain": [
       "array([[0., 0., 0., 0., 0.],\n",
       "       [1., 0., 0., 0., 0.],\n",
       "       [0., 1., 0., 0., 0.],\n",
       "       [0., 0., 1., 0., 0.]])"
      ]
     },
     "execution_count": 33,
     "metadata": {},
     "output_type": "execute_result"
    }
   ],
   "source": [
    "np.eye(4,5,-1)"
   ]
  },
  {
   "cell_type": "code",
   "execution_count": 36,
   "id": "93dbcf13",
   "metadata": {},
   "outputs": [
    {
     "data": {
      "text/plain": [
       "array([51, 27, 23, 49, 47, 36, 28, 41, 36, 37, 55, 29, 55])"
      ]
     },
     "execution_count": 36,
     "metadata": {},
     "output_type": "execute_result"
    }
   ],
   "source": [
    "s=np.random.randint(22,57,13)\n",
    "s"
   ]
  },
  {
   "cell_type": "code",
   "execution_count": 37,
   "id": "be9f262b",
   "metadata": {},
   "outputs": [
    {
     "data": {
      "text/plain": [
       "array([[51],\n",
       "       [27],\n",
       "       [23],\n",
       "       [49],\n",
       "       [47],\n",
       "       [36],\n",
       "       [28],\n",
       "       [41],\n",
       "       [36],\n",
       "       [37],\n",
       "       [55],\n",
       "       [29],\n",
       "       [55]])"
      ]
     },
     "execution_count": 37,
     "metadata": {},
     "output_type": "execute_result"
    }
   ],
   "source": [
    "s.reshape(13,1)"
   ]
  },
  {
   "cell_type": "code",
   "execution_count": 41,
   "id": "04c9162b",
   "metadata": {},
   "outputs": [
    {
     "data": {
      "text/plain": [
       "array([[2.        , 2.06122449],\n",
       "       [2.12244898, 2.18367347],\n",
       "       [2.24489796, 2.30612245],\n",
       "       [2.36734694, 2.42857143],\n",
       "       [2.48979592, 2.55102041],\n",
       "       [2.6122449 , 2.67346939],\n",
       "       [2.73469388, 2.79591837],\n",
       "       [2.85714286, 2.91836735],\n",
       "       [2.97959184, 3.04081633],\n",
       "       [3.10204082, 3.16326531],\n",
       "       [3.2244898 , 3.28571429],\n",
       "       [3.34693878, 3.40816327],\n",
       "       [3.46938776, 3.53061224],\n",
       "       [3.59183673, 3.65306122],\n",
       "       [3.71428571, 3.7755102 ],\n",
       "       [3.83673469, 3.89795918],\n",
       "       [3.95918367, 4.02040816],\n",
       "       [4.08163265, 4.14285714],\n",
       "       [4.20408163, 4.26530612],\n",
       "       [4.32653061, 4.3877551 ],\n",
       "       [4.44897959, 4.51020408],\n",
       "       [4.57142857, 4.63265306],\n",
       "       [4.69387755, 4.75510204],\n",
       "       [4.81632653, 4.87755102],\n",
       "       [4.93877551, 5.        ]])"
      ]
     },
     "execution_count": 41,
     "metadata": {},
     "output_type": "execute_result"
    }
   ],
   "source": [
    "x.reshape(25,2)"
   ]
  },
  {
   "cell_type": "code",
   "execution_count": 42,
   "id": "2b63e3cf",
   "metadata": {},
   "outputs": [
    {
     "data": {
      "text/plain": [
       "10"
      ]
     },
     "execution_count": 42,
     "metadata": {},
     "output_type": "execute_result"
    }
   ],
   "source": [
    "s.argmax()"
   ]
  },
  {
   "cell_type": "code",
   "execution_count": 43,
   "id": "2d8ef3fe",
   "metadata": {},
   "outputs": [
    {
     "data": {
      "text/plain": [
       "2"
      ]
     },
     "execution_count": 43,
     "metadata": {},
     "output_type": "execute_result"
    }
   ],
   "source": [
    "s.argmin()"
   ]
  },
  {
   "cell_type": "markdown",
   "id": "d156055a",
   "metadata": {},
   "source": [
    "NumPy operations"
   ]
  },
  {
   "cell_type": "code",
   "execution_count": null,
   "id": "c64a46c3",
   "metadata": {},
   "outputs": [],
   "source": []
  }
 ],
 "metadata": {
  "kernelspec": {
   "display_name": "Python 3 (ipykernel)",
   "language": "python",
   "name": "python3"
  },
  "language_info": {
   "codemirror_mode": {
    "name": "ipython",
    "version": 3
   },
   "file_extension": ".py",
   "mimetype": "text/x-python",
   "name": "python",
   "nbconvert_exporter": "python",
   "pygments_lexer": "ipython3",
   "version": "3.9.7"
  }
 },
 "nbformat": 4,
 "nbformat_minor": 5
}
